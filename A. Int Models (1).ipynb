{
 "cells": [
  {
   "cell_type": "markdown",
   "id": "a0ac95ba",
   "metadata": {},
   "source": [
    "NB: Link to Project:\n",
    "\n",
    "https://github.com/Dela12/Portfolio/blob/main/Risk%20Analysis%20and%20Asset%20Pricing%20-%20Financial%20Mathematics%20and%20Machine%20Learning%20Models.ipynb"
   ]
  }
 ],
 "metadata": {
  "kernelspec": {
   "display_name": "Python 3 (ipykernel)",
   "language": "python",
   "name": "python3"
  },
  "language_info": {
   "codemirror_mode": {
    "name": "ipython",
    "version": 3
   },
   "file_extension": ".py",
   "mimetype": "text/x-python",
   "name": "python",
   "nbconvert_exporter": "python",
   "pygments_lexer": "ipython3",
   "version": "3.9.12"
  }
 },
 "nbformat": 4,
 "nbformat_minor": 5
}
