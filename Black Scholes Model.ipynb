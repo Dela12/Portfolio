{
 "cells": [
  {
   "cell_type": "markdown",
   "id": "81c7a8e2",
   "metadata": {},
   "source": [
    "## Pricing of Options with Black-Scholes Model"
   ]
  },
  {
   "cell_type": "markdown",
   "id": "f326c9fd",
   "metadata": {},
   "source": [
    "The Black-Scholes model, also known as the Black-Scholes-Merton (with dividend) model, is a mathematical model used for estimating the prices of an option contract based on other investment instruments, taking into account the impact of time and other risk factors. It is regarded as the best method for estimating option prices. \n",
    "\n",
    "An option contract enables its owner to buy or sell an underlying asset at a price, also known as strike price. The owner of the option contract may buy or sell the asset at the given price, but he may also decide not to do it if the asset’s price isn’t advantageous.\n",
    "\n",
    "There are two types of options : A Call option (the holder has the right to buy an asset at an agreed strike price)  put option (he holder has the right to sell an asset at an agreed strike price).\n",
    "\n",
    "In addition, there are also two different ways options are exercised: European options and American Options. European options can be exercised only at expiration or maturity, while American options can be exercised at any time or during the entire lifetime of the option, hence more valuable. All options considered in this work can only be exercised at expiration, hence are European options.\n",
    "\n",
    "\n",
    "### Input Variables\n",
    "The Black-Scholes model requires five input variables: the strike price of an option, the current stock price, the time to expiration, the risk-free rate, and the volatility.\n",
    "\n",
    "- $S_0$     - Current price/spot price of the underlying or Asset / The stock’s current market price\n",
    "- $X$     - The strike price at which the option can be exercised; if we exercise the option, we can buy the stock at the strike price X\n",
    "- $r$           - Riskless rate of interest\n",
    "- $σ/stdev$     - Volatility. That is, the standard deviation of the underlying asset\n",
    "- $T$           - Term of the option\n",
    "\n",
    "### Formula \n",
    " Below are the Call and Put options for the Black-Scholes model under consideration. \n",
    " \n",
    "call option price:\n",
    "$C = S_0N(d_1) - Xe^{-rT}N(d_2)$\n",
    "     \n",
    "put option price: \n",
    "$P = Xe^{-rT}N(-d_2) - S_0N(-d_1)$\n",
    "\n",
    "with,\n",
    "\n",
    "$$\n",
    "d_1 = \\frac{\\ln \\left(\\frac{S_0}{X}\\right) + \\left(r + \\frac{stdev^2}{2}\\right)T}{stdev \\cdot \\sqrt{T}}\n",
    "$$\n",
    "\n",
    "$$\n",
    "d_2 = d_1 - stdev \\cdot \\sqrt{T} = \\frac{\\ln \\left(\\frac{S_0}{X}\\right) + \\left(r - \\frac{stdev^2}{2}\\right)T}{stdev \\cdot \\sqrt{T}}\n",
    "$$\n",
    "\n",
    "where,\n",
    "\n",
    "- ln = natural logarithm\n",
    "- e = basis of the natural logarithm = 2.7128. . .\n",
    "- N(d) = cumulative standard normal distribution\n",
    "\n",
    "Therefore, the valuation of an option at time T = 0 (c or p) is thus influenced by the current share price $S_0$, the exercise price X, the term of the option T, the riskless rate of interest r as well as two weights N(d). \n",
    "\n",
    "\n",
    "### Note - CDF:\n",
    "- The cumulative distribution shows how the data accumulates in time, its output can never be below zero or above one.\n",
    "- So Norm CDF will take as an argument a value from the data and will show us what portion of the data lies below that value. \n"
   ]
  },
  {
   "cell_type": "markdown",
   "id": "a9af4949",
   "metadata": {},
   "source": [
    "### Data Import\n",
    "\n",
    "We consider an investor who would like to invest in BASF. BASF Data was obtained from yahoo finance with the ticker 'BAS.DE'\n",
    "\n",
    "To begin with, we import the necessary python packages for our work. Then we analyse and check if we have good and clean data. The data extrated is a time series data for every trading day. BASF data is downloaded for the period from 1st of January, 2021 to 31st December, 2021."
   ]
  },
  {
   "cell_type": "code",
   "execution_count": 1,
   "id": "f12a27bb",
   "metadata": {},
   "outputs": [],
   "source": [
    "import numpy as np\n",
    "import pandas as pd\n",
    "import matplotlib.pyplot as plt\n",
    "from pandas_datareader import data as wb\n",
    "from scipy.stats import norm\n",
    "import seaborn as sns\n",
    "sns.set()\n",
    "\n",
    "BASF_data = wb.DataReader('BAS.DE', data_source = 'yahoo', start = '2021-01-01', end = '2021-12-31')"
   ]
  },
  {
   "cell_type": "code",
   "execution_count": 2,
   "id": "e148f8c3",
   "metadata": {},
   "outputs": [
    {
     "name": "stdout",
     "output_type": "stream",
     "text": [
      "<class 'pandas.core.frame.DataFrame'>\n",
      "DatetimeIndex: 255 entries, 2021-01-04 to 2021-12-30\n",
      "Data columns (total 6 columns):\n",
      " #   Column     Non-Null Count  Dtype  \n",
      "---  ------     --------------  -----  \n",
      " 0   High       255 non-null    float64\n",
      " 1   Low        255 non-null    float64\n",
      " 2   Open       255 non-null    float64\n",
      " 3   Close      255 non-null    float64\n",
      " 4   Volume     255 non-null    float64\n",
      " 5   Adj Close  255 non-null    float64\n",
      "dtypes: float64(6)\n",
      "memory usage: 13.9 KB\n"
     ]
    },
    {
     "data": {
      "text/html": [
       "<div>\n",
       "<style scoped>\n",
       "    .dataframe tbody tr th:only-of-type {\n",
       "        vertical-align: middle;\n",
       "    }\n",
       "\n",
       "    .dataframe tbody tr th {\n",
       "        vertical-align: top;\n",
       "    }\n",
       "\n",
       "    .dataframe thead th {\n",
       "        text-align: right;\n",
       "    }\n",
       "</style>\n",
       "<table border=\"1\" class=\"dataframe\">\n",
       "  <thead>\n",
       "    <tr style=\"text-align: right;\">\n",
       "      <th></th>\n",
       "      <th>High</th>\n",
       "      <th>Low</th>\n",
       "      <th>Open</th>\n",
       "      <th>Close</th>\n",
       "      <th>Volume</th>\n",
       "      <th>Adj Close</th>\n",
       "    </tr>\n",
       "    <tr>\n",
       "      <th>Date</th>\n",
       "      <th></th>\n",
       "      <th></th>\n",
       "      <th></th>\n",
       "      <th></th>\n",
       "      <th></th>\n",
       "      <th></th>\n",
       "    </tr>\n",
       "  </thead>\n",
       "  <tbody>\n",
       "    <tr>\n",
       "      <th>2021-01-04</th>\n",
       "      <td>66.070000</td>\n",
       "      <td>64.430000</td>\n",
       "      <td>65.480003</td>\n",
       "      <td>64.889999</td>\n",
       "      <td>2741508.0</td>\n",
       "      <td>57.681629</td>\n",
       "    </tr>\n",
       "    <tr>\n",
       "      <th>2021-01-05</th>\n",
       "      <td>65.470001</td>\n",
       "      <td>63.259998</td>\n",
       "      <td>64.300003</td>\n",
       "      <td>64.400002</td>\n",
       "      <td>2770337.0</td>\n",
       "      <td>57.246063</td>\n",
       "    </tr>\n",
       "    <tr>\n",
       "      <th>2021-01-06</th>\n",
       "      <td>67.550003</td>\n",
       "      <td>65.139999</td>\n",
       "      <td>65.239998</td>\n",
       "      <td>67.370003</td>\n",
       "      <td>5187251.0</td>\n",
       "      <td>59.886139</td>\n",
       "    </tr>\n",
       "    <tr>\n",
       "      <th>2021-01-07</th>\n",
       "      <td>68.529999</td>\n",
       "      <td>67.129997</td>\n",
       "      <td>67.930000</td>\n",
       "      <td>68.410004</td>\n",
       "      <td>3655366.0</td>\n",
       "      <td>60.810608</td>\n",
       "    </tr>\n",
       "    <tr>\n",
       "      <th>2021-01-08</th>\n",
       "      <td>69.239998</td>\n",
       "      <td>68.010002</td>\n",
       "      <td>69.000000</td>\n",
       "      <td>68.580002</td>\n",
       "      <td>3035733.0</td>\n",
       "      <td>60.961720</td>\n",
       "    </tr>\n",
       "    <tr>\n",
       "      <th>...</th>\n",
       "      <td>...</td>\n",
       "      <td>...</td>\n",
       "      <td>...</td>\n",
       "      <td>...</td>\n",
       "      <td>...</td>\n",
       "      <td>...</td>\n",
       "    </tr>\n",
       "    <tr>\n",
       "      <th>2021-12-23</th>\n",
       "      <td>60.939999</td>\n",
       "      <td>60.180000</td>\n",
       "      <td>60.180000</td>\n",
       "      <td>60.830002</td>\n",
       "      <td>1889040.0</td>\n",
       "      <td>56.727203</td>\n",
       "    </tr>\n",
       "    <tr>\n",
       "      <th>2021-12-27</th>\n",
       "      <td>61.500000</td>\n",
       "      <td>60.500000</td>\n",
       "      <td>60.650002</td>\n",
       "      <td>61.290001</td>\n",
       "      <td>1405892.0</td>\n",
       "      <td>57.156178</td>\n",
       "    </tr>\n",
       "    <tr>\n",
       "      <th>2021-12-28</th>\n",
       "      <td>61.930000</td>\n",
       "      <td>61.259998</td>\n",
       "      <td>61.299999</td>\n",
       "      <td>61.700001</td>\n",
       "      <td>1576927.0</td>\n",
       "      <td>57.538525</td>\n",
       "    </tr>\n",
       "    <tr>\n",
       "      <th>2021-12-29</th>\n",
       "      <td>61.840000</td>\n",
       "      <td>61.369999</td>\n",
       "      <td>61.709999</td>\n",
       "      <td>61.470001</td>\n",
       "      <td>1345086.0</td>\n",
       "      <td>57.324036</td>\n",
       "    </tr>\n",
       "    <tr>\n",
       "      <th>2021-12-30</th>\n",
       "      <td>61.779999</td>\n",
       "      <td>61.330002</td>\n",
       "      <td>61.480000</td>\n",
       "      <td>61.779999</td>\n",
       "      <td>1398905.0</td>\n",
       "      <td>57.613125</td>\n",
       "    </tr>\n",
       "  </tbody>\n",
       "</table>\n",
       "<p>255 rows × 6 columns</p>\n",
       "</div>"
      ],
      "text/plain": [
       "                 High        Low       Open      Close     Volume  Adj Close\n",
       "Date                                                                        \n",
       "2021-01-04  66.070000  64.430000  65.480003  64.889999  2741508.0  57.681629\n",
       "2021-01-05  65.470001  63.259998  64.300003  64.400002  2770337.0  57.246063\n",
       "2021-01-06  67.550003  65.139999  65.239998  67.370003  5187251.0  59.886139\n",
       "2021-01-07  68.529999  67.129997  67.930000  68.410004  3655366.0  60.810608\n",
       "2021-01-08  69.239998  68.010002  69.000000  68.580002  3035733.0  60.961720\n",
       "...               ...        ...        ...        ...        ...        ...\n",
       "2021-12-23  60.939999  60.180000  60.180000  60.830002  1889040.0  56.727203\n",
       "2021-12-27  61.500000  60.500000  60.650002  61.290001  1405892.0  57.156178\n",
       "2021-12-28  61.930000  61.259998  61.299999  61.700001  1576927.0  57.538525\n",
       "2021-12-29  61.840000  61.369999  61.709999  61.470001  1345086.0  57.324036\n",
       "2021-12-30  61.779999  61.330002  61.480000  61.779999  1398905.0  57.613125\n",
       "\n",
       "[255 rows x 6 columns]"
      ]
     },
     "execution_count": 2,
     "metadata": {},
     "output_type": "execute_result"
    }
   ],
   "source": [
    "#General inforamtion about the data : This includes the row index, column names and the number of non-zero values.\n",
    "\n",
    "BASF_data.info()    \n",
    "BASF_data"
   ]
  },
  {
   "cell_type": "markdown",
   "id": "75cbe985",
   "metadata": {},
   "source": [
    "### Observations: \n",
    " \n",
    "- The BASF stock data obtained from yahoo finance is made up of 255 rows and 6 columns. All columns have 255 non-null values (no missing value).\n",
    "\n",
    "- The adjusted closing price for the first few years is smaller compared to the closing price as in the table above. Conversensly, at the end of the trading period the adjusted closing price is the same as the closing price. The difference is due to dividends paid to stock owners as well as other changes in stock price such as stock splits, increase in capital etc. \n",
    "\n",
    "- The date column only include trading days. That is to say that, the date column excludes Saturdays, Sundays and National Holidays as stock markets are not opened on such days. Our data looks fine at this point. \n",
    "\n",
    "- It is worth nothing that, the first two rows (Table descriction) are not counted as part of the rows with data. The first row is the row with data with a date of \"2021-01-04\". Row one is the next row and so on."
   ]
  },
  {
   "cell_type": "markdown",
   "id": "8329a281",
   "metadata": {},
   "source": [
    "#### Column Needed\n",
    "Now we etract the column needed for estimating the Call and Put option prices. This is the Adjusted Closing Price. The adjusted closing price is as a result of dividends paid to stock owners and other changes such to stock price such as stock splits etc."
   ]
  },
  {
   "cell_type": "code",
   "execution_count": 3,
   "id": "6359584f",
   "metadata": {},
   "outputs": [
    {
     "data": {
      "text/html": [
       "<div>\n",
       "<style scoped>\n",
       "    .dataframe tbody tr th:only-of-type {\n",
       "        vertical-align: middle;\n",
       "    }\n",
       "\n",
       "    .dataframe tbody tr th {\n",
       "        vertical-align: top;\n",
       "    }\n",
       "\n",
       "    .dataframe thead th {\n",
       "        text-align: right;\n",
       "    }\n",
       "</style>\n",
       "<table border=\"1\" class=\"dataframe\">\n",
       "  <thead>\n",
       "    <tr style=\"text-align: right;\">\n",
       "      <th></th>\n",
       "      <th>BAS.DE</th>\n",
       "    </tr>\n",
       "    <tr>\n",
       "      <th>Date</th>\n",
       "      <th></th>\n",
       "    </tr>\n",
       "  </thead>\n",
       "  <tbody>\n",
       "    <tr>\n",
       "      <th>2021-01-04</th>\n",
       "      <td>57.681629</td>\n",
       "    </tr>\n",
       "    <tr>\n",
       "      <th>2021-01-05</th>\n",
       "      <td>57.246063</td>\n",
       "    </tr>\n",
       "    <tr>\n",
       "      <th>2021-01-06</th>\n",
       "      <td>59.886139</td>\n",
       "    </tr>\n",
       "    <tr>\n",
       "      <th>2021-01-07</th>\n",
       "      <td>60.810608</td>\n",
       "    </tr>\n",
       "    <tr>\n",
       "      <th>2021-01-08</th>\n",
       "      <td>60.961720</td>\n",
       "    </tr>\n",
       "    <tr>\n",
       "      <th>...</th>\n",
       "      <td>...</td>\n",
       "    </tr>\n",
       "    <tr>\n",
       "      <th>2021-12-23</th>\n",
       "      <td>56.727203</td>\n",
       "    </tr>\n",
       "    <tr>\n",
       "      <th>2021-12-27</th>\n",
       "      <td>57.156178</td>\n",
       "    </tr>\n",
       "    <tr>\n",
       "      <th>2021-12-28</th>\n",
       "      <td>57.538525</td>\n",
       "    </tr>\n",
       "    <tr>\n",
       "      <th>2021-12-29</th>\n",
       "      <td>57.324036</td>\n",
       "    </tr>\n",
       "    <tr>\n",
       "      <th>2021-12-30</th>\n",
       "      <td>57.613125</td>\n",
       "    </tr>\n",
       "  </tbody>\n",
       "</table>\n",
       "<p>255 rows × 1 columns</p>\n",
       "</div>"
      ],
      "text/plain": [
       "               BAS.DE\n",
       "Date                 \n",
       "2021-01-04  57.681629\n",
       "2021-01-05  57.246063\n",
       "2021-01-06  59.886139\n",
       "2021-01-07  60.810608\n",
       "2021-01-08  60.961720\n",
       "...               ...\n",
       "2021-12-23  56.727203\n",
       "2021-12-27  57.156178\n",
       "2021-12-28  57.538525\n",
       "2021-12-29  57.324036\n",
       "2021-12-30  57.613125\n",
       "\n",
       "[255 rows x 1 columns]"
      ]
     },
     "execution_count": 3,
     "metadata": {},
     "output_type": "execute_result"
    }
   ],
   "source": [
    "ticker = 'BAS.DE'  \n",
    "BASF = pd.DataFrame()  \n",
    "BASF[ticker] = wb.DataReader(ticker, data_source='yahoo', start = '2021-01-01', end = '2021-12-31')['Adj Close']\n",
    "BASF"
   ]
  },
  {
   "cell_type": "markdown",
   "id": "9c9f4ba3",
   "metadata": {},
   "source": [
    "### Plot of BASF price\n",
    "\n",
    "We plot the adjusted closing price of BASF and observe the behaviour of it's ditribution.  "
   ]
  },
  {
   "cell_type": "code",
   "execution_count": 4,
   "id": "9138c50a",
   "metadata": {},
   "outputs": [
    {
     "data": {
      "text/plain": [
       "Text(20.503287500000006, 0.5, 'Frequency')"
      ]
     },
     "execution_count": 4,
     "metadata": {},
     "output_type": "execute_result"
    },
    {
     "data": {
      "image/png": "[encoded data removed]",
      "text/plain": [
       "<Figure size 720x432 with 1 Axes>"
      ]
     },
     "metadata": {},
     "output_type": "display_data"
    },
    {
     "data": {
      "image/png": "[encoded data removed]",
      "text/plain": [
       "<Figure size 440.1x360 with 1 Axes>"
      ]
     },
     "metadata": {},
     "output_type": "display_data"
    }
   ],
   "source": [
    "BASF.plot(figsize=(10, 6));\n",
    "\n",
    "sns.displot(BASF, kde=True)\n",
    "plt.xlabel(\"Daily returns\")\n",
    "plt.ylabel(\"Frequency\")"
   ]
  },
  {
   "cell_type": "markdown",
   "id": "cc4ce125",
   "metadata": {},
   "source": [
    "### Call and Put Option Pricing\n",
    "\n",
    "- We define the following functions for d1,d2, call price and put price. For coding seek let $S_0=S$\n",
    "-  we then create a variable S, which is equal to the last adjusted closing price of BASF. We use the “iloc” method. This method will deliver the current stock price."
   ]
  },
  {
   "cell_type": "code",
   "execution_count": 5,
   "id": "60780a37",
   "metadata": {},
   "outputs": [],
   "source": [
    "def d1(S, X, r, stdev, T):\n",
    "    return (np.log(S / X) + (r + stdev ** 2 / 2) * T) / (stdev * np.sqrt(T))\n",
    " \n",
    "def d2(S, X, r, stdev, T):\n",
    "    return (np.log(S / X) + (r - stdev ** 2 / 2) * T) / (stdev * np.sqrt(T))\n",
    "\n",
    "def BSM_call(S, X, r, stdev, T):\n",
    "        return (S * norm.cdf(d1(S, X, r, stdev, T))) - (X * np.exp(-r * T) * norm.cdf(d2(S, X, r, stdev, T)))\n",
    "    \n",
    "def BSM_put(S, X, r, stdev, T):\n",
    "        return ((X * np.exp(-r * T) * norm.cdf(-d2(S, X, r, stdev, T))) - S * norm.cdf(-d1(S, X, r, stdev, T)))"
   ]
  },
  {
   "cell_type": "code",
   "execution_count": 6,
   "id": "6622c303",
   "metadata": {},
   "outputs": [
    {
     "data": {
      "text/plain": [
       "BAS.DE    57.613125\n",
       "Name: 2021-12-30 00:00:00, dtype: float64"
      ]
     },
     "execution_count": 6,
     "metadata": {},
     "output_type": "execute_result"
    }
   ],
   "source": [
    "S = BASF.iloc[-1]      #current stock price\n",
    "S"
   ]
  },
  {
   "cell_type": "markdown",
   "id": "d09a221b",
   "metadata": {},
   "source": [
    "### Calculate the Log returns of BASF Price and Standard Deviation\n",
    "Log returns : Instead of simple rates of return, we could use logarithmic rates of return, also called log returns. Another argument we could extract from the data is the standard deviation. In our case, we will use an approximation of the standard deviation of the logarithmic returns of this stock."
   ]
  },
  {
   "cell_type": "code",
   "execution_count": 7,
   "id": "d3078673",
   "metadata": {},
   "outputs": [
    {
     "data": {
      "text/html": [
       "<div>\n",
       "<style scoped>\n",
       "    .dataframe tbody tr th:only-of-type {\n",
       "        vertical-align: middle;\n",
       "    }\n",
       "\n",
       "    .dataframe tbody tr th {\n",
       "        vertical-align: top;\n",
       "    }\n",
       "\n",
       "    .dataframe thead th {\n",
       "        text-align: right;\n",
       "    }\n",
       "</style>\n",
       "<table border=\"1\" class=\"dataframe\">\n",
       "  <thead>\n",
       "    <tr style=\"text-align: right;\">\n",
       "      <th></th>\n",
       "      <th>BAS.DE</th>\n",
       "    </tr>\n",
       "    <tr>\n",
       "      <th>Date</th>\n",
       "      <th></th>\n",
       "    </tr>\n",
       "  </thead>\n",
       "  <tbody>\n",
       "    <tr>\n",
       "      <th>2021-01-04</th>\n",
       "      <td>NaN</td>\n",
       "    </tr>\n",
       "    <tr>\n",
       "      <th>2021-01-05</th>\n",
       "      <td>-0.007580</td>\n",
       "    </tr>\n",
       "    <tr>\n",
       "      <th>2021-01-06</th>\n",
       "      <td>0.045086</td>\n",
       "    </tr>\n",
       "    <tr>\n",
       "      <th>2021-01-07</th>\n",
       "      <td>0.015319</td>\n",
       "    </tr>\n",
       "    <tr>\n",
       "      <th>2021-01-08</th>\n",
       "      <td>0.002482</td>\n",
       "    </tr>\n",
       "    <tr>\n",
       "      <th>...</th>\n",
       "      <td>...</td>\n",
       "    </tr>\n",
       "    <tr>\n",
       "      <th>2021-12-23</th>\n",
       "      <td>0.014572</td>\n",
       "    </tr>\n",
       "    <tr>\n",
       "      <th>2021-12-27</th>\n",
       "      <td>0.007534</td>\n",
       "    </tr>\n",
       "    <tr>\n",
       "      <th>2021-12-28</th>\n",
       "      <td>0.006667</td>\n",
       "    </tr>\n",
       "    <tr>\n",
       "      <th>2021-12-29</th>\n",
       "      <td>-0.003735</td>\n",
       "    </tr>\n",
       "    <tr>\n",
       "      <th>2021-12-30</th>\n",
       "      <td>0.005030</td>\n",
       "    </tr>\n",
       "  </tbody>\n",
       "</table>\n",
       "<p>255 rows × 1 columns</p>\n",
       "</div>"
      ],
      "text/plain": [
       "              BAS.DE\n",
       "Date                \n",
       "2021-01-04       NaN\n",
       "2021-01-05 -0.007580\n",
       "2021-01-06  0.045086\n",
       "2021-01-07  0.015319\n",
       "2021-01-08  0.002482\n",
       "...              ...\n",
       "2021-12-23  0.014572\n",
       "2021-12-27  0.007534\n",
       "2021-12-28  0.006667\n",
       "2021-12-29 -0.003735\n",
       "2021-12-30  0.005030\n",
       "\n",
       "[255 rows x 1 columns]"
      ]
     },
     "execution_count": 7,
     "metadata": {},
     "output_type": "execute_result"
    }
   ],
   "source": [
    "log_returns = np.log(1 + BASF.pct_change())\n",
    "log_returns "
   ]
  },
  {
   "cell_type": "markdown",
   "id": "c3f42214",
   "metadata": {},
   "source": [
    "### We plot the log returns below\n",
    "- The log returns are normally distributed as seen below."
   ]
  },
  {
   "cell_type": "code",
   "execution_count": 8,
   "id": "cce665d2",
   "metadata": {},
   "outputs": [
    {
     "data": {
      "text/plain": [
       "Text(20.503287500000006, 0.5, 'Frequency')"
      ]
     },
     "execution_count": 8,
     "metadata": {},
     "output_type": "execute_result"
    },
    {
     "data": {
      "image/png": "[encoded data removed]",
      "text/plain": [
       "<Figure size 440.1x360 with 1 Axes>"
      ]
     },
     "metadata": {},
     "output_type": "display_data"
    }
   ],
   "source": [
    "sns.displot(log_returns, kde=True)\n",
    "plt.xlabel(\"Daily returns\")\n",
    "plt.ylabel(\"Frequency\")\n",
    "#log_returns.plot(figsize=(10, 6));"
   ]
  },
  {
   "cell_type": "markdown",
   "id": "c430f114",
   "metadata": {},
   "source": [
    "### Standard Deviation \n",
    "We store the annual standard deviation of the log returns in a variable called “stdev”."
   ]
  },
  {
   "cell_type": "code",
   "execution_count": 9,
   "id": "b4d4b18f",
   "metadata": {},
   "outputs": [
    {
     "data": {
      "text/plain": [
       "BAS.DE    0.203616\n",
       "dtype: float64"
      ]
     },
     "execution_count": 9,
     "metadata": {},
     "output_type": "execute_result"
    }
   ],
   "source": [
    "stdev = log_returns.std() * 250 ** 0.5           #volatility\n",
    "stdev   "
   ]
  },
  {
   "cell_type": "markdown",
   "id": "0143ea84",
   "metadata": {},
   "source": [
    "- Set the risk free rate, r, equal to 2.5% (0.025); the strike price X, equal to 48.0; and the time horizon, T, equal to 1, respectively."
   ]
  },
  {
   "cell_type": "code",
   "execution_count": 10,
   "id": "c61a7da4",
   "metadata": {},
   "outputs": [],
   "source": [
    "r = 0.025\n",
    "X = 48\n",
    "T = 1"
   ]
  },
  {
   "cell_type": "markdown",
   "id": "dd1f50d6",
   "metadata": {},
   "source": [
    "### Estimate the $d1$ and $d2$ functions with the relevant arguments to obtain their values."
   ]
  },
  {
   "cell_type": "code",
   "execution_count": 11,
   "id": "7dbcf5d4",
   "metadata": {},
   "outputs": [
    {
     "data": {
      "text/plain": [
       "BAS.DE    1.121127\n",
       "dtype: float64"
      ]
     },
     "execution_count": 11,
     "metadata": {},
     "output_type": "execute_result"
    }
   ],
   "source": [
    "d1(S, X, r, stdev, T)"
   ]
  },
  {
   "cell_type": "code",
   "execution_count": 12,
   "id": "7f6bb9c2",
   "metadata": {},
   "outputs": [
    {
     "data": {
      "text/plain": [
       "BAS.DE    0.917512\n",
       "dtype: float64"
      ]
     },
     "execution_count": 12,
     "metadata": {},
     "output_type": "execute_result"
    }
   ],
   "source": [
    "d2(S, X, r, stdev, T)"
   ]
  },
  {
   "cell_type": "markdown",
   "id": "da80ff01",
   "metadata": {},
   "source": [
    "### Call and Put Prices \n",
    "\n",
    "Use the BSM function to estimate the price of a call option, given you know the values of S, K, r, stdev, and T.\n",
    "We can calculate the price of the call option. We will stick to a risk free rate of 2.494% (approxiamtely 2.5%) corresponding to a 10 year German government bond.  "
   ]
  },
  {
   "cell_type": "code",
   "execution_count": 13,
   "id": "2c69ae1d",
   "metadata": {},
   "outputs": [
    {
     "name": "stdout",
     "output_type": "stream",
     "text": [
      "Call Price:  BAS.DE    11.644533\n",
      "Name: 2021-12-30 00:00:00, dtype: float64\n"
     ]
    }
   ],
   "source": [
    "call_price = BSM_call(S, X, r, stdev, T)\n",
    "print(\"Call Price: \", str(call_price))"
   ]
  },
  {
   "cell_type": "code",
   "execution_count": 14,
   "id": "2664e576",
   "metadata": {},
   "outputs": [
    {
     "name": "stdout",
     "output_type": "stream",
     "text": [
      "Put price:  BAS.DE    0.846284\n",
      "Name: 2021-12-30 00:00:00, dtype: float64\n"
     ]
    }
   ],
   "source": [
    "put_price = BSM_put(S, X, r, stdev, T)\n",
    "print(\"Put price: \", str(put_price))"
   ]
  },
  {
   "cell_type": "markdown",
   "id": "631fd612",
   "metadata": {},
   "source": [
    "\n",
    "### Explaination of Outcome\n",
    "\n",
    "The call and put option prices for the BASF stock are 11.64 and 0.85 respectively.\n",
    "\n",
    "- NB: It is possible for the price of an option (Call and Put) to be much lower than the actual stock price. This is because the value of the option depends on multiple parameters, such as strike price, time to maturity and volatility. And it is not directly proportional to the price of the security."
   ]
  }
 ],
 "metadata": {
  "kernelspec": {
   "display_name": "Python 3 (ipykernel)",
   "language": "python",
   "name": "python3"
  },
  "language_info": {
   "codemirror_mode": {
    "name": "ipython",
    "version": 3
   },
   "file_extension": ".py",
   "mimetype": "text/x-python",
   "name": "python",
   "nbconvert_exporter": "python",
   "pygments_lexer": "ipython3",
   "version": "3.9.12"
  }
 },
 "nbformat": 4,
 "nbformat_minor": 5
}
