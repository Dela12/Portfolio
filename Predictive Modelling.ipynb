{
 "cells": [
  {
   "cell_type": "markdown",
   "id": "f326c9fd",
   "metadata": {},
   "source": [
    "## Predictive Data Analysis and Option Pricing for Financial Instruments\n",
    "###### Author: E.Delali Aggor\n",
    "\n",
    "### Introduction\n",
    "The Black-Scholes model, also known as the Black-Scholes-Merton (with dividend) model, is a mathematical model used for estimating the prices of an option contract based on other investment instruments, taking into account the impact of time and other risk factors. It is regarded as the best method for estimating option prices. \n",
    "\n",
    "An option contract enables its owner to buy or sell an underlying asset at a price, also known as strike price. The owner of the option contract may buy or sell the asset at the given price, but he may also decide not to do it if the asset’s price isn’t advantageous.\n",
    "\n",
    "There are two types of options : A Call option (the holder has the right to buy an asset at an agreed strike price)  put option (he holder has the right to sell an asset at an agreed strike price).\n",
    "\n",
    "In addition, there are also two different ways options are exercised: \n",
    "\n",
    "- European options and American Options. European options can be exercised only at expiration or maturity \n",
    "- American options can be exercised at any time or during the entire lifetime of the option, hence more valuable. \n",
    "\n",
    "- NB: Options considered in this work can only be exercised at expiration, hence are European options.\n",
    "\n",
    "\n",
    "### Input Variables\n",
    "The Black-Scholes model requires five input variables: the strike price of an option, the current stock price, the time to expiration, the risk-free rate, and the volatility.\n",
    "\n",
    "- $S_0$     - Current price/spot price of the underlying or Asset / The stock’s current market price\n",
    "- $X$     - The strike price at which the option can be exercised; if we exercise the option, we can buy the stock at the strike price X\n",
    "- $r$           - Riskless rate of interest\n",
    "- $σ/stdev$     - Volatility. That is, the standard deviation of the underlying asset\n",
    "- $T$           - Term of the option\n",
    "\n",
    "### Formula \n",
    " Below are the Call and Put options for the Black-Scholes model under consideration. \n",
    " \n",
    "call option price:\n",
    "$C = S_0N(d_1) - Xe^{-rT}N(d_2)$\n",
    "     \n",
    "put option price: \n",
    "$P = Xe^{-rT}N(-d_2) - S_0N(-d_1)$\n",
    "\n",
    "with,\n",
    "\n",
    "$$\n",
    "d_1 = \\frac{\\ln \\left(\\frac{S_0}{X}\\right) + \\left(r + \\frac{stdev^2}{2}\\right)T}{stdev \\cdot \\sqrt{T}}\n",
    "$$\n",
    "\n",
    "$$\n",
    "d_2 = d_1 - stdev \\cdot \\sqrt{T} = \\frac{\\ln \\left(\\frac{S_0}{X}\\right) + \\left(r - \\frac{stdev^2}{2}\\right)T}{stdev \\cdot \\sqrt{T}}\n",
    "$$\n",
    "\n",
    "where,\n",
    "\n",
    "- ln = natural logarithm\n",
    "- e = basis of the natural logarithm = 2.7128. . .\n",
    "- N(d) = cumulative standard normal distribution\n",
    "\n",
    "Therefore, the valuation of an option at time T = 0 (c or p) is thus influenced by the current share price $S_0$, the exercise price X, the term of the option T, the riskless rate of interest r as well as two weights N(d). \n",
    "\n",
    "\n",
    "### Note - CDF:\n",
    "- The cumulative distribution shows how the data accumulates in time, its output can never be below zero or above one.\n",
    "- So Norm CDF will take as an argument a value from the data and will show us what portion of the data lies below that value. \n"
   ]
  },
  {
   "cell_type": "markdown",
   "id": "a9af4949",
   "metadata": {},
   "source": [
    "### PART 1: Exploratory Data Analysis\n",
    "- Historical data was obtained from yahoo finance.\n",
    "\n",
    "- The data extrated is a time series data for each trading day from 2017-01-01 to 2021-12-31.\n",
    "\n",
    "- The data has 1267 rows and 6 columns. All columns have 255 non-null values (no missing value).\n",
    "\n",
    "\n",
    "\n",
    "\n",
    "- The following lines of code imports the required libraries: NumPy for numerical operations, Pandas for data manipulation, scikit-learn for machine learning, Matplotlib and Seaborn for plotting."
   ]
  },
  {
   "cell_type": "code",
   "execution_count": 1,
   "id": "f12a27bb",
   "metadata": {},
   "outputs": [],
   "source": [
    "#import required packages\n",
    "\n",
    "import yfinance as yf\n",
    "import datetime\n",
    "import numpy as np\n",
    "import pandas as pd\n",
    "import matplotlib.pyplot as plt\n",
    "from pandas_datareader import data as wb\n",
    "from scipy.stats import norm\n",
    "import seaborn as sns\n",
    "sns.set()\n",
    "\n",
    "# set plotting parameters\n",
    "%matplotlib inline\n",
    "#sns.set_style(\"whitegrid\")\n",
    "plt.rc(\"figure\", figsize=(12, 8))\n",
    "plt.rc(\"savefig\", dpi=90)\n",
    "plt.rc(\"font\", family=\"sans-serif\")\n",
    "plt.rc(\"font\", size=14)"
   ]
  },
  {
   "cell_type": "markdown",
   "id": "b5fa5a52",
   "metadata": {},
   "source": [
    "###### From the data below: \n",
    "- The adjusted closing price for the first few years is smaller compared to the closing price as in the table above. The difference is due to dividends paid to stock owners as well as other changes in stock price such as stock splits, increase in capital etc. \n",
    "\n",
    "- The date column only include trading days. That is to say that, the date column excludes Saturdays, Sundays and National Holidays as stock markets are not opened on such days.  \n",
    "\n",
    "- It is worth nothing that, the first two rows (column descrictions) are not counted as part of the rows with data. The first row is the row with data with a date of \"2017-01-02\". Row one is the next row and so on."
   ]
  },
  {
   "cell_type": "code",
   "execution_count": 2,
   "id": "a68c7979",
   "metadata": {},
   "outputs": [
    {
     "name": "stdout",
     "output_type": "stream",
     "text": [
      "[*********************100%%**********************]  1 of 1 completed\n"
     ]
    },
    {
     "data": {
      "text/html": [
       "<div>\n",
       "<style scoped>\n",
       "    .dataframe tbody tr th:only-of-type {\n",
       "        vertical-align: middle;\n",
       "    }\n",
       "\n",
       "    .dataframe tbody tr th {\n",
       "        vertical-align: top;\n",
       "    }\n",
       "\n",
       "    .dataframe thead th {\n",
       "        text-align: right;\n",
       "    }\n",
       "</style>\n",
       "<table border=\"1\" class=\"dataframe\">\n",
       "  <thead>\n",
       "    <tr style=\"text-align: right;\">\n",
       "      <th></th>\n",
       "      <th>Open</th>\n",
       "      <th>High</th>\n",
       "      <th>Low</th>\n",
       "      <th>Close</th>\n",
       "      <th>Adj Close</th>\n",
       "      <th>Volume</th>\n",
       "    </tr>\n",
       "    <tr>\n",
       "      <th>Date</th>\n",
       "      <th></th>\n",
       "      <th></th>\n",
       "      <th></th>\n",
       "      <th></th>\n",
       "      <th></th>\n",
       "      <th></th>\n",
       "    </tr>\n",
       "  </thead>\n",
       "  <tbody>\n",
       "    <tr>\n",
       "      <th>2017-01-02</th>\n",
       "      <td>87.500000</td>\n",
       "      <td>88.809998</td>\n",
       "      <td>87.099998</td>\n",
       "      <td>88.699997</td>\n",
       "      <td>56.960785</td>\n",
       "      <td>1245318</td>\n",
       "    </tr>\n",
       "    <tr>\n",
       "      <th>2017-01-03</th>\n",
       "      <td>88.879997</td>\n",
       "      <td>88.879997</td>\n",
       "      <td>87.419998</td>\n",
       "      <td>87.699997</td>\n",
       "      <td>56.318607</td>\n",
       "      <td>2806564</td>\n",
       "    </tr>\n",
       "    <tr>\n",
       "      <th>2017-01-04</th>\n",
       "      <td>87.889999</td>\n",
       "      <td>88.150002</td>\n",
       "      <td>87.269997</td>\n",
       "      <td>88.150002</td>\n",
       "      <td>56.607590</td>\n",
       "      <td>1955701</td>\n",
       "    </tr>\n",
       "    <tr>\n",
       "      <th>2017-01-05</th>\n",
       "      <td>87.540001</td>\n",
       "      <td>88.250000</td>\n",
       "      <td>87.389999</td>\n",
       "      <td>87.790001</td>\n",
       "      <td>56.376408</td>\n",
       "      <td>1753933</td>\n",
       "    </tr>\n",
       "    <tr>\n",
       "      <th>2017-01-06</th>\n",
       "      <td>87.500000</td>\n",
       "      <td>87.730003</td>\n",
       "      <td>87.269997</td>\n",
       "      <td>87.519997</td>\n",
       "      <td>56.203014</td>\n",
       "      <td>1518979</td>\n",
       "    </tr>\n",
       "    <tr>\n",
       "      <th>...</th>\n",
       "      <td>...</td>\n",
       "      <td>...</td>\n",
       "      <td>...</td>\n",
       "      <td>...</td>\n",
       "      <td>...</td>\n",
       "      <td>...</td>\n",
       "    </tr>\n",
       "    <tr>\n",
       "      <th>2021-12-23</th>\n",
       "      <td>60.180000</td>\n",
       "      <td>60.939999</td>\n",
       "      <td>60.180000</td>\n",
       "      <td>60.830002</td>\n",
       "      <td>52.708607</td>\n",
       "      <td>1889040</td>\n",
       "    </tr>\n",
       "    <tr>\n",
       "      <th>2021-12-27</th>\n",
       "      <td>60.650002</td>\n",
       "      <td>61.500000</td>\n",
       "      <td>60.500000</td>\n",
       "      <td>61.290001</td>\n",
       "      <td>53.107193</td>\n",
       "      <td>1405892</td>\n",
       "    </tr>\n",
       "    <tr>\n",
       "      <th>2021-12-28</th>\n",
       "      <td>61.299999</td>\n",
       "      <td>61.930000</td>\n",
       "      <td>61.259998</td>\n",
       "      <td>61.700001</td>\n",
       "      <td>53.462452</td>\n",
       "      <td>1576927</td>\n",
       "    </tr>\n",
       "    <tr>\n",
       "      <th>2021-12-29</th>\n",
       "      <td>61.709999</td>\n",
       "      <td>61.840000</td>\n",
       "      <td>61.369999</td>\n",
       "      <td>61.470001</td>\n",
       "      <td>53.263161</td>\n",
       "      <td>1345086</td>\n",
       "    </tr>\n",
       "    <tr>\n",
       "      <th>2021-12-30</th>\n",
       "      <td>61.480000</td>\n",
       "      <td>61.779999</td>\n",
       "      <td>61.330002</td>\n",
       "      <td>61.779999</td>\n",
       "      <td>53.531769</td>\n",
       "      <td>1398905</td>\n",
       "    </tr>\n",
       "  </tbody>\n",
       "</table>\n",
       "<p>1267 rows × 6 columns</p>\n",
       "</div>"
      ],
      "text/plain": [
       "                 Open       High        Low      Close  Adj Close   Volume\n",
       "Date                                                                      \n",
       "2017-01-02  87.500000  88.809998  87.099998  88.699997  56.960785  1245318\n",
       "2017-01-03  88.879997  88.879997  87.419998  87.699997  56.318607  2806564\n",
       "2017-01-04  87.889999  88.150002  87.269997  88.150002  56.607590  1955701\n",
       "2017-01-05  87.540001  88.250000  87.389999  87.790001  56.376408  1753933\n",
       "2017-01-06  87.500000  87.730003  87.269997  87.519997  56.203014  1518979\n",
       "...               ...        ...        ...        ...        ...      ...\n",
       "2021-12-23  60.180000  60.939999  60.180000  60.830002  52.708607  1889040\n",
       "2021-12-27  60.650002  61.500000  60.500000  61.290001  53.107193  1405892\n",
       "2021-12-28  61.299999  61.930000  61.259998  61.700001  53.462452  1576927\n",
       "2021-12-29  61.709999  61.840000  61.369999  61.470001  53.263161  1345086\n",
       "2021-12-30  61.480000  61.779999  61.330002  61.779999  53.531769  1398905\n",
       "\n",
       "[1267 rows x 6 columns]"
      ]
     },
     "execution_count": 2,
     "metadata": {},
     "output_type": "execute_result"
    }
   ],
   "source": [
    "# Define the ticker symbol and date range\n",
    "ticker = \"BAS.DE\"\n",
    "start = '2017-01-01'\n",
    "end = '2021-12-31'\n",
    "\n",
    "# Download the historical stock prices\n",
    "data_BASF = yf.download(ticker, start=start, end=end)\n",
    "\n",
    "\n",
    "# Create a new DataFrame\n",
    "BASF_data = pd.DataFrame(data_BASF)\n",
    "BASF_data"
   ]
  },
  {
   "cell_type": "code",
   "execution_count": 3,
   "id": "e148f8c3",
   "metadata": {},
   "outputs": [
    {
     "name": "stdout",
     "output_type": "stream",
     "text": [
      "<class 'pandas.core.frame.DataFrame'>\n",
      "DatetimeIndex: 1267 entries, 2017-01-02 to 2021-12-30\n",
      "Data columns (total 6 columns):\n",
      " #   Column     Non-Null Count  Dtype  \n",
      "---  ------     --------------  -----  \n",
      " 0   Open       1267 non-null   float64\n",
      " 1   High       1267 non-null   float64\n",
      " 2   Low        1267 non-null   float64\n",
      " 3   Close      1267 non-null   float64\n",
      " 4   Adj Close  1267 non-null   float64\n",
      " 5   Volume     1267 non-null   int64  \n",
      "dtypes: float64(5), int64(1)\n",
      "memory usage: 69.3 KB\n"
     ]
    }
   ],
   "source": [
    "#General inforamtion about the data : This includes the row index, column names and the number of non-zero values.\n",
    "\n",
    "BASF_data.info()    "
   ]
  },
  {
   "cell_type": "markdown",
   "id": "8329a281",
   "metadata": {},
   "source": [
    "###### Visualizing Daily Returns: \n",
    "- First, we extract the column needed for estimating the Call and Put option prices. This is the Adjusted Closing Price.\n",
    "- The stock's closing price is modified by the adjusted closing price to reflect the stock's worth following any corporate actions such as dividends paid to stock owners and other changes such to stock price such as stock splits etc. \n",
    "- When analyzing historical returns or performing a thorough analysis of past performance, it is frequently used."
   ]
  },
  {
   "cell_type": "code",
   "execution_count": 4,
   "id": "6359584f",
   "metadata": {},
   "outputs": [
    {
     "data": {
      "image/png": "[encoded data removed]",
      "text/plain": [
       "<Figure size 864x576 with 1 Axes>"
      ]
     },
     "metadata": {
      "needs_background": "light"
     },
     "output_type": "display_data"
    }
   ],
   "source": [
    "BASF = BASF_data['Adj Close']\n",
    "BASF.head()\n",
    "\n",
    "BASF.plot()\n",
    "plt.title('Daily prices')\n",
    "plt.ylabel('Adjusted Close Price')\n",
    "plt.show()"
   ]
  },
  {
   "cell_type": "markdown",
   "id": "9c9f4ba3",
   "metadata": {},
   "source": [
    "###### Calculating and visualizing daily Log Returns\n",
    "- Log returns : Instead of simple rates of return, we calculate logarithmic rates of return, also called log returns. \n",
    "- The log returns formula is given by:\n",
    "$$\n",
    "ln(\\frac{P_t}{P_{t-1}})\n",
    "$$\n",
    "-As we can see from the graph below, our time series has a stable trend and now they are moving around zero. The sharpe of the distribution is clearly seen. This further implies that our log return's data is normally distributed and have a stable mean. We can conclude then that, our time series are now closer to stationarity and can used them for our analysis."
   ]
  },
  {
   "cell_type": "code",
   "execution_count": 5,
   "id": "9138c50a",
   "metadata": {},
   "outputs": [
    {
     "data": {
      "text/plain": [
       "Text(8.120000000000005, 0.5, 'Frequency')"
      ]
     },
     "execution_count": 5,
     "metadata": {},
     "output_type": "execute_result"
    },
    {
     "data": {
      "image/png": "[encoded data removed]",
      "text/plain": [
       "<Figure size 360x360 with 1 Axes>"
      ]
     },
     "metadata": {
      "needs_background": "light"
     },
     "output_type": "display_data"
    }
   ],
   "source": [
    "log_returns = np.log(1 + BASF.pct_change()) \n",
    "\n",
    "sns.displot(log_returns, kde=True)\n",
    "plt.title(\"Distribution of Daily log Returns\")\n",
    "plt.ylabel(\"Frequency\")"
   ]
  },
  {
   "cell_type": "code",
   "execution_count": null,
   "id": "1f139aa5",
   "metadata": {},
   "outputs": [],
   "source": []
  },
  {
   "cell_type": "markdown",
   "id": "c297da18",
   "metadata": {},
   "source": [
    "### PART 2: Predictive Modeling of Stock Prices using Linear Regression\n",
    "\n",
    "- A predictive modeling approach is used to forecast future prices of the stock data using a linear regression. \n",
    "- Leveraging historical data, the scikit-learn library was utilized to implement a linear regression model, taking into account the adjusted closing prices as features. \n",
    "- The model was trained on a subset of the data, and its performance was evaluated using metrics such as Mean Squared Error and R^2. \n",
    "- The resulting predictions were visually compared to actual values, providing insights into the efficacy of the linear regression model in capturing patterns within the stock's historical price movements. "
   ]
  },
  {
   "cell_type": "code",
   "execution_count": 6,
   "id": "e761a28a",
   "metadata": {},
   "outputs": [],
   "source": [
    "from sklearn.model_selection import train_test_split\n",
    "from sklearn.linear_model import LinearRegression\n",
    "from sklearn.metrics import mean_squared_error"
   ]
  },
  {
   "cell_type": "markdown",
   "id": "1f109bb8",
   "metadata": {},
   "source": [
    "###### Feature and Target Selection: \n",
    "- the adjusted closing price is extracted as the feature (X) and reshaped it into a 2D array\n",
    "\n",
    "- next, a target variable (y) is created. This is done by shifting the adjusted closing prices by one day. This is done to predict tomorrow's closing price. The dropna() removes the last row, as there is no corresponding value for the shifted day."
   ]
  },
  {
   "cell_type": "code",
   "execution_count": 7,
   "id": "a9195ddc",
   "metadata": {},
   "outputs": [],
   "source": [
    "# Feature: Historical adjusted closing prices\n",
    "X = BASF_data['Adj Close'].values.reshape(-1, 1)\n",
    "\n",
    "# Target: Adjusted closing prices shifted by 1 day (predicting tomorrow's closing price)\n",
    "y = BASF_data['Adj Close'].shift(-1).dropna().values"
   ]
  },
  {
   "cell_type": "markdown",
   "id": "080bf10f",
   "metadata": {},
   "source": [
    "###### Training and Test data set\n",
    "- scikit-learn's train_test_split function is used to split the data into training and testing sets. \n",
    "- The test_size parameter specifies the proportion of the dataset to include in the test split, and random_state ensures reproducibility."
   ]
  },
  {
   "cell_type": "code",
   "execution_count": 8,
   "id": "070aeb44",
   "metadata": {},
   "outputs": [],
   "source": [
    "# Split the data into training and testing sets\n",
    "X_temp = X[:-1]  # Exclude the last row\n",
    "test_size = 0.2\n",
    "random_state = 42\n",
    "\n",
    "X_train, X_test, y_train, y_test = train_test_split(X_temp, y, test_size=test_size, random_state=random_state)"
   ]
  },
  {
   "cell_type": "markdown",
   "id": "0db80d49",
   "metadata": {},
   "source": [
    "###### Linear Regression Model\n",
    "- A linear regression model is created using scikit-learn's LinearRegression class, and it's trained on the training set."
   ]
  },
  {
   "cell_type": "code",
   "execution_count": 9,
   "id": "fe31a9d1",
   "metadata": {},
   "outputs": [
    {
     "data": {
      "text/html": [
       "<div>\n",
       "<style scoped>\n",
       "    .dataframe tbody tr th:only-of-type {\n",
       "        vertical-align: middle;\n",
       "    }\n",
       "\n",
       "    .dataframe tbody tr th {\n",
       "        vertical-align: top;\n",
       "    }\n",
       "\n",
       "    .dataframe thead th {\n",
       "        text-align: right;\n",
       "    }\n",
       "</style>\n",
       "<table border=\"1\" class=\"dataframe\">\n",
       "  <thead>\n",
       "    <tr style=\"text-align: right;\">\n",
       "      <th></th>\n",
       "      <th>Intercept</th>\n",
       "      <th>Coefficient</th>\n",
       "    </tr>\n",
       "  </thead>\n",
       "  <tbody>\n",
       "    <tr>\n",
       "      <th>0</th>\n",
       "      <td>0.366692</td>\n",
       "      <td>0.992984</td>\n",
       "    </tr>\n",
       "  </tbody>\n",
       "</table>\n",
       "</div>"
      ],
      "text/plain": [
       "   Intercept  Coefficient\n",
       "0   0.366692     0.992984"
      ]
     },
     "execution_count": 9,
     "metadata": {},
     "output_type": "execute_result"
    }
   ],
   "source": [
    "# Initialize and train the linear regression model\n",
    "model = LinearRegression()\n",
    "model.fit(X_train, y_train)\n",
    "\n",
    "# Access model parameters\n",
    "coefficients = model.coef_\n",
    "intercept = model.intercept_\n",
    "\n",
    "# Create a DataFrame for the intercept and coefficients\n",
    "model_results = pd.DataFrame({\n",
    "    'Intercept': [intercept],\n",
    "    'Coefficient': coefficients\n",
    "})\n",
    "\n",
    "\n",
    "# Print or display the DataFrame\n",
    "model_results"
   ]
  },
  {
   "cell_type": "code",
   "execution_count": 10,
   "id": "821677ba",
   "metadata": {},
   "outputs": [],
   "source": [
    "y = intercept + coefficients * X"
   ]
  },
  {
   "cell_type": "markdown",
   "id": "65d43af6",
   "metadata": {},
   "source": [
    "###### Making Predictions and Visulaizing the Outcome:\n",
    "- The first block of code is used to train model to make predictions on the test set.\n",
    "\n",
    "- A scatter plot is then created to visualize the actual vs. predicted values on the test set. \n",
    "\n",
    "- The x-axis represents the actual adjusted closing prices, and the y-axis represents the predicted values for the next day's adjusted closing prices."
   ]
  },
  {
   "cell_type": "code",
   "execution_count": 11,
   "id": "6cf699fb",
   "metadata": {},
   "outputs": [],
   "source": [
    "# Make predictions on the test set\n",
    "predicted_stock_prices = model.predict(X_test)"
   ]
  },
  {
   "cell_type": "code",
   "execution_count": 12,
   "id": "d56b578b",
   "metadata": {},
   "outputs": [
    {
     "data": {
      "image/png": "[encoded data removed]",
      "text/plain": [
       "<Figure size 864x576 with 1 Axes>"
      ]
     },
     "metadata": {
      "needs_background": "light"
     },
     "output_type": "display_data"
    }
   ],
   "source": [
    "# Visualize the predictions\n",
    "plt.scatter(X_test, y_test, color='black', label='Actual')\n",
    "plt.scatter(X_test, predicted_stock_prices, color='red', label='Predicted')\n",
    "plt.xlabel('Adjusted Closing Price')\n",
    "plt.ylabel('Next Day Adjusted Closing Price')\n",
    "plt.legend()\n",
    "plt.show()"
   ]
  },
  {
   "cell_type": "markdown",
   "id": "af78bf12",
   "metadata": {},
   "source": [
    "### Model Evaluation\n",
    "\n",
    "- These block calculates the Mean Squared Error (MSE) between the actual and predicted values on the test set, providing a measure of how well the model performs.\n",
    "\n",
    "- The R-squared score measures the proportion of the variance in the dependent variable that is predictable from the independent variable. It ranges from 0 to 1, where 1 indicates a perfect fit."
   ]
  },
  {
   "cell_type": "code",
   "execution_count": 13,
   "id": "26c21ab7",
   "metadata": {},
   "outputs": [
    {
     "data": {
      "text/html": [
       "<div>\n",
       "<style scoped>\n",
       "    .dataframe tbody tr th:only-of-type {\n",
       "        vertical-align: middle;\n",
       "    }\n",
       "\n",
       "    .dataframe tbody tr th {\n",
       "        vertical-align: top;\n",
       "    }\n",
       "\n",
       "    .dataframe thead th {\n",
       "        text-align: right;\n",
       "    }\n",
       "</style>\n",
       "<table border=\"1\" class=\"dataframe\">\n",
       "  <thead>\n",
       "    <tr style=\"text-align: right;\">\n",
       "      <th></th>\n",
       "      <th>Metric</th>\n",
       "      <th>Value</th>\n",
       "    </tr>\n",
       "  </thead>\n",
       "  <tbody>\n",
       "    <tr>\n",
       "      <th>0</th>\n",
       "      <td>Mean Squared Error</td>\n",
       "      <td>0.461434</td>\n",
       "    </tr>\n",
       "    <tr>\n",
       "      <th>1</th>\n",
       "      <td>R-squared Score</td>\n",
       "      <td>0.991805</td>\n",
       "    </tr>\n",
       "  </tbody>\n",
       "</table>\n",
       "</div>"
      ],
      "text/plain": [
       "               Metric     Value\n",
       "0  Mean Squared Error  0.461434\n",
       "1     R-squared Score  0.991805"
      ]
     },
     "execution_count": 13,
     "metadata": {},
     "output_type": "execute_result"
    }
   ],
   "source": [
    "# Evaluate the model performance\n",
    "from sklearn.metrics import r2_score\n",
    "mse = mean_squared_error(y_test, predicted_stock_prices)\n",
    "r2 = r2_score(y_test, predicted_stock_prices)\n",
    "\n",
    "# Create a DataFrame for the results\n",
    "evaluation_results = pd.DataFrame({\n",
    "    'Metric': ['Mean Squared Error', 'R-squared Score'],\n",
    "    'Value': [mse, r2]\n",
    "})\n",
    "\n",
    "# Print or display the DataFrame\n",
    "evaluation_results"
   ]
  },
  {
   "cell_type": "code",
   "execution_count": null,
   "id": "af792893",
   "metadata": {},
   "outputs": [],
   "source": []
  },
  {
   "cell_type": "markdown",
   "id": "4f6e7338",
   "metadata": {},
   "source": [
    "### Discussion\n",
    "\n",
    "The linear regression model trained on the historical adjusted closing prices for BASF stock has demonstrated strong predictive performance. The evaluation metrics further affirm the model's effectiveness in capturing the underlying patterns in the data.\n",
    "\n",
    "The Mean Squared Error (MSE), a measure of the average squared difference between actual and predicted values, is found to be of 0.461434: This reflects a relatively low level of prediction error, suggesting that the model's predicted values are close to the actual values on average.\n",
    "\n",
    "Additionally, the R-squared score, a measure of the proportion of variance explained by the model, is exceptionally high at 0.992 signifying an exceptional fit of the model to the data, explaining approximately 99.18% of the variability in the target variable."
   ]
  },
  {
   "cell_type": "markdown",
   "id": "d736b29b",
   "metadata": {},
   "source": [
    "## PART 3: Using Predicted Stock Prices to Estimate Option Prices\n",
    "\n",
    "- We define the following functions for d1,d2, call price and put price. For coding seek let $S_0=S$\n",
    "-  we then create a variable S, which is equal to the last adjusted closing price of BASF. We use the “iloc” method. This method will deliver the current stock price."
   ]
  },
  {
   "cell_type": "code",
   "execution_count": 14,
   "id": "b2d63f11",
   "metadata": {},
   "outputs": [],
   "source": [
    "def d1(S, X, r, stdev, T):\n",
    "    return (np.log(S / X) + (r + stdev ** 2 / 2) * T) / (stdev * np.sqrt(T))\n",
    " \n",
    "def d2(S, X, r, stdev, T):\n",
    "    return (np.log(S / X) + (r - stdev ** 2 / 2) * T) / (stdev * np.sqrt(T))\n",
    "\n",
    "def BSM_call(S, X, r, stdev, T):\n",
    "        return (S * norm.cdf(d1(S, X, r, stdev, T))) - (X * np.exp(-r * T) * norm.cdf(d2(S, X, r, stdev, T)))\n",
    "    \n",
    "def BSM_put(S, X, r, stdev, T):\n",
    "        return ((X * np.exp(-r * T) * norm.cdf(-d2(S, X, r, stdev, T))) - S * norm.cdf(-d1(S, X, r, stdev, T)))"
   ]
  },
  {
   "cell_type": "markdown",
   "id": "464a8be0",
   "metadata": {},
   "source": [
    "###### Parameters: Black-Scholes Model\n",
    "- The last predicted stock price is assumed to be the current stock price (S_predicted). \n",
    "- This value will be used as the current stock price in the Black-Scholes Model.\n",
    "\n",
    "\n",
    "- The standard deviation of the predicted stock returns is calculated. \n",
    "- This is needed for the volatility parameter in the Black-Scholes Model.\n",
    "\n",
    "\n",
    "- The remaining parameters for the Black-Scholes Model: risk-free rate (r), option strike price (X_option), and time to expiration in years (T_option). \n",
    "- The risk-free rate of 2.494% (approxiamtely 2.5%) corresponding to a 10 year German government bond.\n",
    "\n",
    "\n",
    "- We calculate the values of d1 and d2, which are required for option pricing in the Black-Scholes Model."
   ]
  },
  {
   "cell_type": "code",
   "execution_count": 15,
   "id": "596f4826",
   "metadata": {},
   "outputs": [],
   "source": [
    "# Use the predicted stock prices as input for the Black-Scholes Model\n",
    "S_predicted = predicted_stock_prices[-1]  # Assuming the last predicted price is the current price\n",
    "\n",
    "# Calculate the standard deviation for the predicted stock returns\n",
    "stdev_predicted = np.std(predicted_stock_prices) * 250 ** 0.5\n",
    "\n",
    "# Set other Black-Scholes Model parameters\n",
    "r = 0.025\n",
    "X_option = 48\n",
    "T_option = 1\n",
    "\n",
    "# Calculate d1 and d2 for option pricing\n",
    "d1_option = d1(S_predicted, X_option, r, stdev_predicted, T_option)\n",
    "d2_option = d2(S_predicted, X_option, r, stdev_predicted, T_option)"
   ]
  },
  {
   "cell_type": "markdown",
   "id": "0a3ba097",
   "metadata": {},
   "source": [
    "###### Estimate option prices\n",
    "- The Black-Scholes Model functions BSM_call and BSM_put is used to estimate the call and put option prices based on the predicted stock prices and other parameters."
   ]
  },
  {
   "cell_type": "code",
   "execution_count": 16,
   "id": "e21af0e8",
   "metadata": {},
   "outputs": [
    {
     "data": {
      "text/html": [
       "<div>\n",
       "<style scoped>\n",
       "    .dataframe tbody tr th:only-of-type {\n",
       "        vertical-align: middle;\n",
       "    }\n",
       "\n",
       "    .dataframe tbody tr th {\n",
       "        vertical-align: top;\n",
       "    }\n",
       "\n",
       "    .dataframe thead th {\n",
       "        text-align: right;\n",
       "    }\n",
       "</style>\n",
       "<table border=\"1\" class=\"dataframe\">\n",
       "  <thead>\n",
       "    <tr style=\"text-align: right;\">\n",
       "      <th></th>\n",
       "      <th>Option Type</th>\n",
       "      <th>Estimated Price</th>\n",
       "    </tr>\n",
       "  </thead>\n",
       "  <tbody>\n",
       "    <tr>\n",
       "      <th>0</th>\n",
       "      <td>Call</td>\n",
       "      <td>62.523469</td>\n",
       "    </tr>\n",
       "    <tr>\n",
       "      <th>1</th>\n",
       "      <td>Put</td>\n",
       "      <td>46.814876</td>\n",
       "    </tr>\n",
       "  </tbody>\n",
       "</table>\n",
       "</div>"
      ],
      "text/plain": [
       "  Option Type  Estimated Price\n",
       "0        Call        62.523469\n",
       "1         Put        46.814876"
      ]
     },
     "execution_count": 16,
     "metadata": {},
     "output_type": "execute_result"
    }
   ],
   "source": [
    "# Use the Black-Scholes Model to estimate option prices\n",
    "call_price_option = BSM_call(S_predicted, X_option, r, stdev_predicted, T_option)\n",
    "put_price_option = BSM_put(S_predicted, X_option, r, stdev_predicted, T_option)\n",
    "\n",
    "\n",
    "# Create a DataFrame for the estimated option prices\n",
    "option_prices = pd.DataFrame({\n",
    "    'Option Type': ['Call', 'Put'],\n",
    "    'Estimated Price': [call_price_option,put_price_option]\n",
    "})\n",
    "option_prices"
   ]
  },
  {
   "cell_type": "code",
   "execution_count": 17,
   "id": "5c42a259",
   "metadata": {},
   "outputs": [
    {
     "data": {
      "image/png": "[encoded data removed]",
      "text/plain": [
       "<Figure size 864x576 with 1 Axes>"
      ]
     },
     "metadata": {
      "needs_background": "light"
     },
     "output_type": "display_data"
    }
   ],
   "source": [
    "# Plotting the estimated option prices with custom colors and bar size\n",
    "plt.bar(option_prices['Option Type'], option_prices['Estimated Price'], color=['lightblue', 'seagreen'], width=0.5)\n",
    "plt.xlabel('Option Type')\n",
    "plt.ylabel('Estimated Price')\n",
    "plt.title('Estimated Call and Put Option Prices')\n",
    "plt.show()"
   ]
  },
  {
   "cell_type": "markdown",
   "id": "b875fd77",
   "metadata": {},
   "source": [
    "Conclusion:\n",
    "\n",
    "1. **Estimated Call Price using Predicted Stock Prices: 62.52**\n",
    "   - The estimated call option price represents the model's prediction for the cost of buying the option to purchase BASF stock at the specified strike price. In this case, the predicted call option price is approximately 62.52.\n",
    "\n",
    "2. **Estimated Put Price using Predicted Stock Prices: 46.81**\n",
    "   - The estimated put option price indicates the model's prediction for the cost of buying the option to sell BASF stock at the specified strike price. Here, the predicted put option price is around 46.81.\n",
    "\n",
    "In summary, these estimated option prices provide insights into the model's predictions regarding the potential future movements of BASF stock. Investors and analysts can use these values to make informed decisions about option trading based on the model's outlook. These estimates rely on the predicted stock prices from the linear regression model and the assumptions of the Black-Scholes Model. Actual market conditions and events may influence option prices differently."
   ]
  }
 ],
 "metadata": {
  "kernelspec": {
   "display_name": "Python 3 (ipykernel)",
   "language": "python",
   "name": "python3"
  },
  "language_info": {
   "codemirror_mode": {
    "name": "ipython",
    "version": 3
   },
   "file_extension": ".py",
   "mimetype": "text/x-python",
   "name": "python",
   "nbconvert_exporter": "python",
   "pygments_lexer": "ipython3",
   "version": "3.9.12"
  }
 },
 "nbformat": 4,
 "nbformat_minor": 5
}
